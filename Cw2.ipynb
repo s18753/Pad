{
  "nbformat": 4,
  "nbformat_minor": 0,
  "metadata": {
    "colab": {
      "provenance": [],
      "collapsed_sections": []
    },
    "kernelspec": {
      "name": "python3",
      "display_name": "Python 3"
    },
    "language_info": {
      "name": "python"
    }
  },
  "cells": [
    {
      "cell_type": "code",
      "execution_count": 1,
      "metadata": {
        "id": "xdHYVCUUmPgw"
      },
      "outputs": [],
      "source": [
        "import numpy as np\n",
        "import pandas as pd"
      ]
    },
    {
      "cell_type": "markdown",
      "source": [
        "Zadanie 1"
      ],
      "metadata": {
        "id": "ry7H4Pcmo_d8"
      }
    },
    {
      "cell_type": "code",
      "source": [
        "data = pd.read_csv('president_heights.csv')\n",
        "heights = np.array(data['height(cm)'])\n",
        "print(heights)"
      ],
      "metadata": {
        "id": "1fNBrfCSmXEB"
      },
      "execution_count": 53,
      "outputs": []
    },
    {
      "cell_type": "code",
      "source": [
        "heights = np.sort(heights)"
      ],
      "metadata": {
        "id": "qwBOE0wzoxm7"
      },
      "execution_count": null,
      "outputs": []
    },
    {
      "cell_type": "code",
      "source": [
        "heights"
      ],
      "metadata": {
        "colab": {
          "base_uri": "https://localhost:8080/"
        },
        "id": "XcYVZByoo49r",
        "outputId": "e1af7c99-d8de-49ab-9727-e58e93a3d04c"
      },
      "execution_count": null,
      "outputs": [
        {
          "output_type": "execute_result",
          "data": {
            "text/plain": [
              "array([163, 168, 168, 170, 170, 171, 173, 173, 173, 173, 174, 175, 175,\n",
              "       177, 178, 178, 178, 178, 179, 180, 182, 182, 182, 182, 183, 183,\n",
              "       183, 183, 183, 183, 183, 183, 185, 185, 185, 188, 188, 188, 189,\n",
              "       189, 193, 193])"
            ]
          },
          "metadata": {},
          "execution_count": 22
        }
      ]
    },
    {
      "cell_type": "code",
      "source": [
        "mean = heights.mean()\n",
        "minimum = heights.min()\n",
        "maximum = heights.max()\n",
        "std_devi = heights.std()"
      ],
      "metadata": {
        "id": "nt7IKhG5mtMx"
      },
      "execution_count": null,
      "outputs": []
    },
    {
      "cell_type": "code",
      "source": [
        "print(\"Mean height:       \", mean)\n",
        "print(\"Standard deviation:\", minimum)\n",
        "print(\"Minimum height:    \", maximum)\n",
        "print(\"Maximum height:    \", std_devi)"
      ],
      "metadata": {
        "colab": {
          "base_uri": "https://localhost:8080/"
        },
        "id": "fTCYmaE0nPOK",
        "outputId": "5ee41bdf-848e-4aca-bf67-488eb4710855"
      },
      "execution_count": null,
      "outputs": [
        {
          "output_type": "stream",
          "name": "stdout",
          "text": [
            "Mean height:        179.73809523809524\n",
            "Standard deviation: 163\n",
            "Minimum height:     193\n",
            "Maximum height:     6.931843442745892\n"
          ]
        }
      ]
    },
    {
      "cell_type": "code",
      "source": [
        "per25th = np.quantile(heights, 0.25)\n",
        "median = np.median(heights)\n",
        "per75th = np.quantile(heights, 0.75)"
      ],
      "metadata": {
        "id": "rb2YkXGPnier"
      },
      "execution_count": null,
      "outputs": []
    },
    {
      "cell_type": "code",
      "source": [
        "print(\"25th percentile:   \", per25th)\n",
        "print(\"Median:            \", median)\n",
        "print(\"75th percentile:   \", per75th)"
      ],
      "metadata": {
        "colab": {
          "base_uri": "https://localhost:8080/"
        },
        "id": "r6pZFcPqok6b",
        "outputId": "75ada2c1-de41-45cc-92bc-01b7255b6c08"
      },
      "execution_count": null,
      "outputs": [
        {
          "output_type": "stream",
          "name": "stdout",
          "text": [
            "25th percentile:    174.25\n",
            "Median:             182.0\n",
            "75th percentile:    183.0\n"
          ]
        }
      ]
    },
    {
      "cell_type": "markdown",
      "source": [
        "Zadanie 2"
      ],
      "metadata": {
        "id": "5MzjSjkWpJlz"
      }
    },
    {
      "cell_type": "code",
      "source": [
        "macierz = pd.read_csv('Zadanie_2.csv', header=None, sep=';')"
      ],
      "metadata": {
        "id": "ZKyWtLveoutb"
      },
      "execution_count": null,
      "outputs": []
    },
    {
      "cell_type": "code",
      "source": [
        "macierz = np.array(macierz)"
      ],
      "metadata": {
        "id": "3N-qDAvOqYZc"
      },
      "execution_count": null,
      "outputs": []
    },
    {
      "cell_type": "markdown",
      "source": [
        "A"
      ],
      "metadata": {
        "id": "xovvAV0OrdV1"
      }
    },
    {
      "cell_type": "code",
      "source": [
        "macierz"
      ],
      "metadata": {
        "id": "p-hfHgx3pXRs"
      },
      "execution_count": null,
      "outputs": []
    },
    {
      "cell_type": "code",
      "source": [
        "np.linalg.eig(macierz)"
      ],
      "metadata": {
        "id": "j1qwlO1Npzbk"
      },
      "execution_count": null,
      "outputs": []
    },
    {
      "cell_type": "code",
      "source": [
        "np.linalg.eigvals(macierz)"
      ],
      "metadata": {
        "colab": {
          "base_uri": "https://localhost:8080/"
        },
        "id": "mVlVP5z-q98N",
        "outputId": "b0a288c0-039f-47b5-a7fd-3610e49b58e7"
      },
      "execution_count": null,
      "outputs": [
        {
          "output_type": "execute_result",
          "data": {
            "text/plain": [
              "array([104.34960192 +0.j        , -23.35660516+18.84992811j,\n",
              "       -23.35660516-18.84992811j,  15.92989017 +0.j        ,\n",
              "        -4.99456452 +0.j        ,   0.35205717 +5.80125175j,\n",
              "         0.35205717 -5.80125175j,  -1.03383491 +0.j        ,\n",
              "         3.87900166 +1.42651533j,   3.87900166 -1.42651533j])"
            ]
          },
          "metadata": {},
          "execution_count": 48
        }
      ]
    },
    {
      "cell_type": "markdown",
      "source": [
        "B"
      ],
      "metadata": {
        "id": "v2wEDJu0rfQV"
      }
    },
    {
      "cell_type": "code",
      "source": [
        "np.linalg.inv(macierz)"
      ],
      "metadata": {
        "colab": {
          "base_uri": "https://localhost:8080/"
        },
        "id": "oykhNN4Urfw9",
        "outputId": "f8263ae0-4ff4-497a-9aa8-b7d6a1b575be"
      },
      "execution_count": null,
      "outputs": [
        {
          "output_type": "execute_result",
          "data": {
            "text/plain": [
              "array([[ 0.47461371,  0.13269253, -0.24726695, -0.82965177,  0.28250384,\n",
              "        -0.17012825,  0.58274426,  0.83686705,  0.4146721 , -1.56942847],\n",
              "       [-0.38032531, -0.11226789,  0.23216372,  0.58853747, -0.2508954 ,\n",
              "         0.10174485, -0.40729564, -0.58325689, -0.2335154 ,  1.11832726],\n",
              "       [ 0.13559662,  0.58950334, -0.24709855, -0.58789838, -0.30170699,\n",
              "        -0.12721938,  0.23740295,  1.01003036, -0.02151387, -0.64590149],\n",
              "       [ 0.01425207,  0.14570726, -0.04557569, -0.12721972, -0.08945184,\n",
              "        -0.03756624,  0.03910376,  0.23606066, -0.01436771, -0.11345749],\n",
              "       [-0.09473246,  0.01725249,  0.19145597,  0.32960274, -0.28626296,\n",
              "         0.08348529, -0.37577603, -0.27295934, -0.25855803,  0.74691827],\n",
              "       [ 0.16387032,  0.10075684, -0.15404907, -0.29794662,  0.16916877,\n",
              "        -0.02827782,  0.20469921,  0.28036265,  0.15086178, -0.5882585 ],\n",
              "       [ 0.04288003,  0.02246462, -0.0366803 , -0.09024915,  0.04322146,\n",
              "        -0.01047861,  0.06167348,  0.07009721,  0.0367806 , -0.14185925],\n",
              "       [-0.26858433, -0.21167346,  0.25168367,  0.55607234, -0.16804333,\n",
              "         0.01066975, -0.22435849, -0.52957038, -0.15757224,  0.77302113],\n",
              "       [-0.15583541, -0.13041404,  0.0984558 ,  0.3150966 , -0.09916278,\n",
              "        -0.04426337, -0.20832614, -0.18404388, -0.04309498,  0.45794224],\n",
              "       [-0.05970783, -0.11342903,  0.09122544,  0.11908074, -0.00311646,\n",
              "         0.02370807, -0.07526552, -0.06924544, -0.10963836,  0.16553689]])"
            ]
          },
          "metadata": {},
          "execution_count": 49
        }
      ]
    },
    {
      "cell_type": "markdown",
      "source": [
        "Zadanie 3"
      ],
      "metadata": {
        "id": "wpUV_3WmsJ41"
      }
    },
    {
      "cell_type": "code",
      "source": [
        "rainfall = pd.read_csv('Seattle2014.csv')['PRCP'].values\n",
        "inches = rainfall / 254.0  # 1/10mm -> inches\n",
        "inches.shape"
      ],
      "metadata": {
        "colab": {
          "base_uri": "https://localhost:8080/"
        },
        "id": "rLpt9_UqsJW2",
        "outputId": "f720b256-1ea6-40d9-9015-f689d6fa86c1"
      },
      "execution_count": 32,
      "outputs": [
        {
          "output_type": "execute_result",
          "data": {
            "text/plain": [
              "(365,)"
            ]
          },
          "metadata": {},
          "execution_count": 32
        }
      ]
    },
    {
      "cell_type": "code",
      "source": [
        "%matplotlib inline\n",
        "import matplotlib.pyplot as plt\n",
        "import seaborn; seaborn.set()  # set plot styles\n",
        "plt.hist(inches, 40);"
      ],
      "metadata": {
        "colab": {
          "base_uri": "https://localhost:8080/",
          "height": 268
        },
        "id": "5mReVH7Qswvm",
        "outputId": "5c95811c-42a9-4a71-83c7-d4d708f223ef"
      },
      "execution_count": 4,
      "outputs": [
        {
          "output_type": "display_data",
          "data": {
            "text/plain": [
              "<Figure size 432x288 with 1 Axes>"
            ],
            "image/png": "[encoded data removed]"
          },
          "metadata": {}
        }
      ]
    },
    {
      "cell_type": "code",
      "source": [
        "inches"
      ],
      "metadata": {
        "id": "hiWqEuAJtADW"
      },
      "execution_count": null,
      "outputs": []
    },
    {
      "cell_type": "code",
      "source": [
        "days0rain = np.sum(inches == 0)\n",
        "dayswithrain = np.sum(inches != 0)\n",
        "daysmore05 = np.sum(inches > 0.5)\n",
        "daysless02 = np.sum((inches < 0.2) * (inches != 0))"
      ],
      "metadata": {
        "id": "1iTjt3cmt_iG"
      },
      "execution_count": 6,
      "outputs": []
    },
    {
      "cell_type": "code",
      "source": [
        "print(\"Number days without rain:      \", days0rain)\n",
        "print(\"Number days with rain:         \", dayswithrain)\n",
        "print(\"Days with more than 0.5 inches:\", daysmore05)\n",
        "print(\"Rainy days with < 0.2 inches  :\", daysless02)"
      ],
      "metadata": {
        "id": "aNQDIHNYvf0X"
      },
      "execution_count": null,
      "outputs": []
    },
    {
      "cell_type": "code",
      "source": [
        "pd.read_csv('Seattle2014.csv')['DATE'].values"
      ],
      "metadata": {
        "id": "JA-RrD7PwbQH"
      },
      "execution_count": null,
      "outputs": []
    },
    {
      "cell_type": "code",
      "source": [
        "import datetime as dt\n",
        "import calendar\n",
        "date=dt.datetime.strptime('2014-01-01', '%Y-%m-%d')"
      ],
      "metadata": {
        "id": "1GSFdtQ8xanW"
      },
      "execution_count": 9,
      "outputs": []
    },
    {
      "cell_type": "code",
      "source": [
        "date + dt.timedelta(days=172)"
      ],
      "metadata": {
        "colab": {
          "base_uri": "https://localhost:8080/"
        },
        "id": "CfWNJiGGxcen",
        "outputId": "455c5fea-71cb-44d9-b644-55f9ad8853d1"
      },
      "execution_count": 10,
      "outputs": [
        {
          "output_type": "execute_result",
          "data": {
            "text/plain": [
              "datetime.datetime(2014, 6, 22, 0, 0)"
            ]
          },
          "metadata": {},
          "execution_count": 10
        }
      ]
    },
    {
      "cell_type": "code",
      "source": [
        "date + dt.timedelta(days=262)"
      ],
      "metadata": {
        "colab": {
          "base_uri": "https://localhost:8080/"
        },
        "id": "wQ9W_KdlxxYP",
        "outputId": "acdbd0c2-d0cb-4942-b1a0-0d461e8db41e"
      },
      "execution_count": null,
      "outputs": [
        {
          "output_type": "execute_result",
          "data": {
            "text/plain": [
              "datetime.datetime(2014, 9, 20, 0, 0)"
            ]
          },
          "metadata": {},
          "execution_count": 82
        }
      ]
    },
    {
      "cell_type": "code",
      "source": [
        "rainy2014 = np.median(np.sort(inches[inches > 0]))\n",
        "rainy2014"
      ],
      "metadata": {
        "colab": {
          "base_uri": "https://localhost:8080/"
        },
        "id": "zn_eHqKFx78O",
        "outputId": "badc88c2-2079-447e-ea7f-e9b0e7360b47"
      },
      "execution_count": 29,
      "outputs": [
        {
          "output_type": "execute_result",
          "data": {
            "text/plain": [
              "0.19488188976377951"
            ]
          },
          "metadata": {},
          "execution_count": 29
        }
      ]
    },
    {
      "cell_type": "code",
      "source": [
        "summer2014 = inches[171:263] \n",
        "summer2014\n",
        "summer2014 = np.median(summer2014)\n",
        "summer2014"
      ],
      "metadata": {
        "colab": {
          "base_uri": "https://localhost:8080/"
        },
        "id": "jSqVgw8Kf3mp",
        "outputId": "df8db3ef-0fb3-4fb6-c672-24d88fc857df"
      },
      "execution_count": 28,
      "outputs": [
        {
          "output_type": "execute_result",
          "data": {
            "text/plain": [
              "0.0"
            ]
          },
          "metadata": {},
          "execution_count": 28
        }
      ]
    },
    {
      "cell_type": "code",
      "source": [
        "summerMax = inches[171:263].max()\n",
        "summerMax"
      ],
      "metadata": {
        "colab": {
          "base_uri": "https://localhost:8080/"
        },
        "id": "Yq1kfNSHgkuh",
        "outputId": "2028b38d-f5d5-4496-e93b-0e7843ca6f81"
      },
      "execution_count": 30,
      "outputs": [
        {
          "output_type": "execute_result",
          "data": {
            "text/plain": [
              "0.8503937007874016"
            ]
          },
          "metadata": {},
          "execution_count": 30
        }
      ]
    },
    {
      "cell_type": "code",
      "source": [
        "non_summer = np.concatenate((inches[0:172], inches[263:365]))\n",
        "non_summer = np.median(non_summer)\n",
        "non_summer"
      ],
      "metadata": {
        "colab": {
          "base_uri": "https://localhost:8080/"
        },
        "id": "WZ3HPz2bhYce",
        "outputId": "47b64f31-b883-453d-a6bf-71350434506f"
      },
      "execution_count": 43,
      "outputs": [
        {
          "output_type": "execute_result",
          "data": {
            "text/plain": [
              "0.0"
            ]
          },
          "metadata": {},
          "execution_count": 43
        }
      ]
    },
    {
      "cell_type": "code",
      "source": [
        "print(\"Median precip on rainy days in 2014 (inches):   \", rainy2014)\n",
        "print(\"Median precip on summer days in 2014 (inches):  \", summer2014)\n",
        "print(\"Maximum precip on summer days in 2014 (inches): \", summerMax)\n",
        "print(\"Median precip on non-summer rainy days (inches):\", non_summer)\n"
      ],
      "metadata": {
        "id": "r_ZTYFDOx5T3",
        "colab": {
          "base_uri": "https://localhost:8080/"
        },
        "outputId": "478d61fe-8e06-4532-8f26-2efd56bee51a"
      },
      "execution_count": 44,
      "outputs": [
        {
          "output_type": "stream",
          "name": "stdout",
          "text": [
            "Median precip on rainy days in 2014 (inches):    0.19488188976377951\n",
            "Median precip on summer days in 2014 (inches):   0.0\n",
            "Maximum precip on summer days in 2014 (inches):  0.8503937007874016\n",
            "Median precip on non-summer rainy days (inches): 0.0\n"
          ]
        }
      ]
    },
    {
      "cell_type": "markdown",
      "source": [
        "Zadanie 4"
      ],
      "metadata": {
        "id": "9hVFomgPioZK"
      }
    },
    {
      "cell_type": "code",
      "source": [
        "A = [0,3,2,5]\n",
        "B = [0,3,1,4]"
      ],
      "metadata": {
        "id": "3j97kLsQiuyy"
      },
      "execution_count": 46,
      "outputs": []
    },
    {
      "cell_type": "code",
      "source": [
        "sum_AB = np.add(A,B)\n",
        "sum_AB"
      ],
      "metadata": {
        "colab": {
          "base_uri": "https://localhost:8080/"
        },
        "id": "lZbe5ncZjfwc",
        "outputId": "1fbd27ac-d35b-4fc2-ea96-3668d1438aea"
      },
      "execution_count": 48,
      "outputs": [
        {
          "output_type": "execute_result",
          "data": {
            "text/plain": [
              "array([0, 6, 3, 9])"
            ]
          },
          "metadata": {},
          "execution_count": 48
        }
      ]
    },
    {
      "cell_type": "code",
      "source": [
        "sub_BA = np.subtract(B,A)\n",
        "sub_BA"
      ],
      "metadata": {
        "colab": {
          "base_uri": "https://localhost:8080/"
        },
        "id": "8X8jMKOHjnmM",
        "outputId": "e3623205-2752-4d47-b0f5-e2bf61cea3b6"
      },
      "execution_count": 49,
      "outputs": [
        {
          "output_type": "execute_result",
          "data": {
            "text/plain": [
              "array([ 0,  0, -1, -1])"
            ]
          },
          "metadata": {},
          "execution_count": 49
        }
      ]
    },
    {
      "cell_type": "code",
      "source": [
        "skal4 = np.array(A)*4\n",
        "skal4"
      ],
      "metadata": {
        "colab": {
          "base_uri": "https://localhost:8080/"
        },
        "id": "Fjn7W7_3jwyh",
        "outputId": "d09b7bbd-25ea-434c-8488-c213c10d6419"
      },
      "execution_count": 50,
      "outputs": [
        {
          "output_type": "execute_result",
          "data": {
            "text/plain": [
              "array([ 0, 12,  8, 20])"
            ]
          },
          "metadata": {},
          "execution_count": 50
        }
      ]
    },
    {
      "cell_type": "code",
      "source": [
        "skal_AB = np.dot(A,B)\n",
        "skal_AB"
      ],
      "metadata": {
        "colab": {
          "base_uri": "https://localhost:8080/"
        },
        "id": "jjgfnOGrj3km",
        "outputId": "84e97470-078b-4a37-c8e2-52807c531a52"
      },
      "execution_count": 51,
      "outputs": [
        {
          "output_type": "execute_result",
          "data": {
            "text/plain": [
              "31"
            ]
          },
          "metadata": {},
          "execution_count": 51
        }
      ]
    },
    {
      "cell_type": "code",
      "source": [
        "vecB = np.linalg.norm(B)\n",
        "vecB"
      ],
      "metadata": {
        "colab": {
          "base_uri": "https://localhost:8080/"
        },
        "id": "vaf8CkNvkCtY",
        "outputId": "e85aaf2f-5b5f-4f4b-ebab-423b352463fb"
      },
      "execution_count": 52,
      "outputs": [
        {
          "output_type": "execute_result",
          "data": {
            "text/plain": [
              "5.0990195135927845"
            ]
          },
          "metadata": {},
          "execution_count": 52
        }
      ]
    }
  ]
}